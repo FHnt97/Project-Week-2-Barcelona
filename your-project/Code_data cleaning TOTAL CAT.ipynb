{
 "cells": [
  {
   "cell_type": "code",
   "execution_count": 1,
   "metadata": {},
   "outputs": [],
   "source": [
    "import pandas as pd"
   ]
  },
  {
   "cell_type": "code",
   "execution_count": 80,
   "metadata": {
    "scrolled": true
   },
   "outputs": [
    {
     "name": "stdout",
     "output_type": "stream",
     "text": [
      "<class 'pandas.core.frame.DataFrame'>\n",
      "RangeIndex: 36 entries, 0 to 35\n",
      "Data columns (total 17 columns):\n",
      "Month/year          36 non-null object\n",
      "Total               36 non-null float64\n",
      "Alemanya            36 non-null float64\n",
      "Bèlgica             36 non-null float64\n",
      "França              36 non-null float64\n",
      "Irlanda             36 non-null object\n",
      "Itàlia              36 non-null float64\n",
      "Països Baixos       36 non-null float64\n",
      "Nordic countries    36 non-null float64\n",
      "Portugal            36 non-null object\n",
      "Regne Unit          36 non-null float64\n",
      "Rússia              36 non-null float64\n",
      "Suïssa              36 non-null float64\n",
      "Resta d'Europa      36 non-null float64\n",
      "Estats Units        36 non-null float64\n",
      "Rest d'America      36 non-null float64\n",
      "Resta del món       36 non-null float64\n",
      "dtypes: float64(14), object(3)\n",
      "memory usage: 4.9+ KB\n"
     ]
    }
   ],
   "source": [
    "# read and analyse csv file\n",
    "# check for null - none found\n",
    "CAT_TOTAL= pd.read_csv(\".\\datasets\\Total_cat_origin.csv\")\n",
    "CAT_TOTAL.info()"
   ]
  },
  {
   "cell_type": "code",
   "execution_count": 81,
   "metadata": {},
   "outputs": [
    {
     "data": {
      "text/html": [
       "<div>\n",
       "<style scoped>\n",
       "    .dataframe tbody tr th:only-of-type {\n",
       "        vertical-align: middle;\n",
       "    }\n",
       "\n",
       "    .dataframe tbody tr th {\n",
       "        vertical-align: top;\n",
       "    }\n",
       "\n",
       "    .dataframe thead th {\n",
       "        text-align: right;\n",
       "    }\n",
       "</style>\n",
       "<table border=\"1\" class=\"dataframe\">\n",
       "  <thead>\n",
       "    <tr style=\"text-align: right;\">\n",
       "      <th></th>\n",
       "      <th>Month/year</th>\n",
       "      <th>Total</th>\n",
       "      <th>Alemanya</th>\n",
       "      <th>Bèlgica</th>\n",
       "      <th>França</th>\n",
       "      <th>Irlanda</th>\n",
       "      <th>Itàlia</th>\n",
       "      <th>Països Baixos</th>\n",
       "      <th>Nordic countries</th>\n",
       "      <th>Portugal</th>\n",
       "      <th>Regne Unit</th>\n",
       "      <th>Rússia</th>\n",
       "      <th>Suïssa</th>\n",
       "      <th>Resta d'Europa</th>\n",
       "      <th>Estats Units</th>\n",
       "      <th>Rest d'America</th>\n",
       "      <th>Resta del món</th>\n",
       "    </tr>\n",
       "  </thead>\n",
       "  <tbody>\n",
       "    <tr>\n",
       "      <th>0</th>\n",
       "      <td>12/2018 (p)</td>\n",
       "      <td>977.2</td>\n",
       "      <td>58.6</td>\n",
       "      <td>14.6</td>\n",
       "      <td>199.0</td>\n",
       "      <td>11.9</td>\n",
       "      <td>100.6</td>\n",
       "      <td>21.9</td>\n",
       "      <td>23.5</td>\n",
       "      <td>0</td>\n",
       "      <td>92.7</td>\n",
       "      <td>24.9</td>\n",
       "      <td>14.7</td>\n",
       "      <td>118.1</td>\n",
       "      <td>62.1</td>\n",
       "      <td>57.7</td>\n",
       "      <td>169.0</td>\n",
       "    </tr>\n",
       "    <tr>\n",
       "      <th>1</th>\n",
       "      <td>11/2018 (p)</td>\n",
       "      <td>1040.7</td>\n",
       "      <td>71.3</td>\n",
       "      <td>23.9</td>\n",
       "      <td>193.9</td>\n",
       "      <td>8.9</td>\n",
       "      <td>76.0</td>\n",
       "      <td>26.2</td>\n",
       "      <td>33.5</td>\n",
       "      <td>9.4</td>\n",
       "      <td>92.5</td>\n",
       "      <td>27.2</td>\n",
       "      <td>22.9</td>\n",
       "      <td>124.6</td>\n",
       "      <td>80.2</td>\n",
       "      <td>65.2</td>\n",
       "      <td>184.8</td>\n",
       "    </tr>\n",
       "    <tr>\n",
       "      <th>2</th>\n",
       "      <td>10/2018 (p)</td>\n",
       "      <td>1655.6</td>\n",
       "      <td>129.4</td>\n",
       "      <td>22.3</td>\n",
       "      <td>311.1</td>\n",
       "      <td>29</td>\n",
       "      <td>94.1</td>\n",
       "      <td>69.9</td>\n",
       "      <td>75.5</td>\n",
       "      <td>0</td>\n",
       "      <td>184.3</td>\n",
       "      <td>49.0</td>\n",
       "      <td>12.0</td>\n",
       "      <td>218.2</td>\n",
       "      <td>148.0</td>\n",
       "      <td>91.8</td>\n",
       "      <td>211.1</td>\n",
       "    </tr>\n",
       "    <tr>\n",
       "      <th>3</th>\n",
       "      <td>09/2018 (p)</td>\n",
       "      <td>2005.3</td>\n",
       "      <td>162.9</td>\n",
       "      <td>41.8</td>\n",
       "      <td>343.0</td>\n",
       "      <td>33.4</td>\n",
       "      <td>117.2</td>\n",
       "      <td>66.5</td>\n",
       "      <td>54.1</td>\n",
       "      <td>35</td>\n",
       "      <td>258.5</td>\n",
       "      <td>108.4</td>\n",
       "      <td>21.7</td>\n",
       "      <td>262.2</td>\n",
       "      <td>131.9</td>\n",
       "      <td>125.6</td>\n",
       "      <td>243.2</td>\n",
       "    </tr>\n",
       "    <tr>\n",
       "      <th>4</th>\n",
       "      <td>08/2018 (p)</td>\n",
       "      <td>2439.0</td>\n",
       "      <td>186.7</td>\n",
       "      <td>57.6</td>\n",
       "      <td>755.5</td>\n",
       "      <td>45.1</td>\n",
       "      <td>160.9</td>\n",
       "      <td>118.6</td>\n",
       "      <td>66.7</td>\n",
       "      <td>17.4</td>\n",
       "      <td>278.0</td>\n",
       "      <td>107.4</td>\n",
       "      <td>22.1</td>\n",
       "      <td>240.6</td>\n",
       "      <td>103.8</td>\n",
       "      <td>97.6</td>\n",
       "      <td>180.8</td>\n",
       "    </tr>\n",
       "  </tbody>\n",
       "</table>\n",
       "</div>"
      ],
      "text/plain": [
       "    Month/year   Total  Alemanya  Bèlgica  França Irlanda  Itàlia  \\\n",
       "0  12/2018 (p)   977.2      58.6     14.6   199.0    11.9   100.6   \n",
       "1  11/2018 (p)  1040.7      71.3     23.9   193.9     8.9    76.0   \n",
       "2  10/2018 (p)  1655.6     129.4     22.3   311.1      29    94.1   \n",
       "3  09/2018 (p)  2005.3     162.9     41.8   343.0    33.4   117.2   \n",
       "4  08/2018 (p)  2439.0     186.7     57.6   755.5    45.1   160.9   \n",
       "\n",
       "   Països Baixos  Nordic countries Portugal  Regne Unit  Rússia  Suïssa  \\\n",
       "0           21.9              23.5        0        92.7    24.9    14.7   \n",
       "1           26.2              33.5      9.4        92.5    27.2    22.9   \n",
       "2           69.9              75.5        0       184.3    49.0    12.0   \n",
       "3           66.5              54.1       35       258.5   108.4    21.7   \n",
       "4          118.6              66.7     17.4       278.0   107.4    22.1   \n",
       "\n",
       "   Resta d'Europa  Estats Units  Rest d'America  Resta del món  \n",
       "0           118.1          62.1            57.7          169.0  \n",
       "1           124.6          80.2            65.2          184.8  \n",
       "2           218.2         148.0            91.8          211.1  \n",
       "3           262.2         131.9           125.6          243.2  \n",
       "4           240.6         103.8            97.6          180.8  "
      ]
     },
     "execution_count": 81,
     "metadata": {},
     "output_type": "execute_result"
    }
   ],
   "source": [
    "#rename columns \n",
    "CAT_TOTAL.columns \n",
    "\n",
    "CAT_TOTAL.head()"
   ]
  },
  {
   "cell_type": "markdown",
   "metadata": {},
   "source": [
    "### change type of month/year to date"
   ]
  },
  {
   "cell_type": "code",
   "execution_count": 82,
   "metadata": {},
   "outputs": [],
   "source": [
    "# remove (p)\n",
    "\n",
    "CAT_TOTAL[\"Month/year_error\"] = CAT_TOTAL[\"Month/year\"].apply(lambda x: \"(p)\" in x)\n",
    "CAT_TOTAL[\"Month/year\"] = CAT_TOTAL[\"Month/year\"].apply(lambda x: x.replace(\" (p)\", \"\"))\n",
    "\n"
   ]
  },
  {
   "cell_type": "code",
   "execution_count": 35,
   "metadata": {},
   "outputs": [],
   "source": [
    "#CAT_TOTAL.astype({\"Month/year\":\"datetime64[ns]\"})\n",
    "#CAT_TOTAL['Month/year'] = pd.to_datetime(CAT_TOTAL['Month/year'])\n",
    " #As type cannot be easily changed, we will just make a sum with the assumption of month containing \"18\", \"17\", \"16\"\n"
   ]
  },
  {
   "cell_type": "markdown",
   "metadata": {},
   "source": [
    "### change Ireland and Portugal to float"
   ]
  },
  {
   "cell_type": "code",
   "execution_count": 83,
   "metadata": {},
   "outputs": [],
   "source": [
    "CAT_TOTAL[\"Ireland_error\"] = CAT_TOTAL[\"Irlanda\"].apply(lambda x: \"(*)\" in x)\n",
    "CAT_TOTAL[\"Irlanda\"] = CAT_TOTAL[\"Irlanda\"].apply(lambda x: x.replace(\"(*)\", \"\"))\n",
    "\n",
    "# AS argument \"..\" doen't seem to be recognised, we will subsitute the value of Italy index 21 to 0\n",
    "    #CAT_TOTAL[\"Ireland_error2\"] = CAT_TOTAL[\"Ireland\"].apply(lambda x: \"(..)\" in x)\n",
    "    #CAT_TOTAL[\"Ireland\"] = CAT_TOTAL[\"Ireland\"].apply(lambda x: x.replace(\"(..)\", \"\"))\n",
    "\n",
    "CAT_TOTAL[\"Irlanda\"].iloc[21]=int(0)\n",
    "\n",
    "CAT_TOTAL = CAT_TOTAL.astype({\"Irlanda\": float})"
   ]
  },
  {
   "cell_type": "markdown",
   "metadata": {},
   "source": [
    "####  Change portugal to float"
   ]
  },
  {
   "cell_type": "code",
   "execution_count": 84,
   "metadata": {},
   "outputs": [],
   "source": [
    "#CAT_TOTAL[\"Ireland\"].iloc[21]=int(0)\n",
    "\n",
    "CAT_TOTAL[\"Portugal_error\"] = CAT_TOTAL[\"Portugal\"].apply(lambda x: \"(*)\" in x)\n",
    "CAT_TOTAL[\"Portugal\"] = CAT_TOTAL[\"Portugal\"].apply(lambda x: x.replace(\"(*)\", \"\"))\n",
    "CAT_TOTAL = CAT_TOTAL.astype({\"Portugal\": float})\n"
   ]
  },
  {
   "cell_type": "code",
   "execution_count": 85,
   "metadata": {},
   "outputs": [
    {
     "name": "stdout",
     "output_type": "stream",
     "text": [
      "<class 'pandas.core.frame.DataFrame'>\n",
      "RangeIndex: 36 entries, 0 to 35\n",
      "Data columns (total 20 columns):\n",
      "Month/year          36 non-null object\n",
      "Total               36 non-null float64\n",
      "Alemanya            36 non-null float64\n",
      "Bèlgica             36 non-null float64\n",
      "França              36 non-null float64\n",
      "Irlanda             36 non-null float64\n",
      "Itàlia              36 non-null float64\n",
      "Països Baixos       36 non-null float64\n",
      "Nordic countries    36 non-null float64\n",
      "Portugal            36 non-null float64\n",
      "Regne Unit          36 non-null float64\n",
      "Rússia              36 non-null float64\n",
      "Suïssa              36 non-null float64\n",
      "Resta d'Europa      36 non-null float64\n",
      "Estats Units        36 non-null float64\n",
      "Rest d'America      36 non-null float64\n",
      "Resta del món       36 non-null float64\n",
      "Month/year_error    36 non-null bool\n",
      "Ireland_error       36 non-null bool\n",
      "Portugal_error      36 non-null bool\n",
      "dtypes: bool(3), float64(16), object(1)\n",
      "memory usage: 5.0+ KB\n"
     ]
    }
   ],
   "source": [
    "CAT_TOTAL.info()"
   ]
  },
  {
   "cell_type": "code",
   "execution_count": 86,
   "metadata": {},
   "outputs": [],
   "source": [
    "CAT_TOTAL = CAT_TOTAL.drop([\"Month/year_error\", \"Ireland_error\", \"Portugal_error\"], axis=1)"
   ]
  },
  {
   "cell_type": "code",
   "execution_count": 87,
   "metadata": {},
   "outputs": [],
   "source": [
    "CAT_TOTAL.to_csv(\"CAT_TOTAL_CLEAN.csv\") "
   ]
  },
  {
   "cell_type": "markdown",
   "metadata": {},
   "source": [
    "## import to database"
   ]
  },
  {
   "cell_type": "code",
   "execution_count": 88,
   "metadata": {},
   "outputs": [],
   "source": [
    "from sqlalchemy import create_engine\n",
    "import pymysql"
   ]
  },
  {
   "cell_type": "code",
   "execution_count": 89,
   "metadata": {},
   "outputs": [],
   "source": [
    "driver = \"mysql+pymysql\"\n",
    "user = \"root\"\n",
    "password = \"Ir0nhack\"\n",
    "ip = \"35.192.169.188\"\n",
    "database = \"Project_2\""
   ]
  },
  {
   "cell_type": "code",
   "execution_count": 90,
   "metadata": {},
   "outputs": [],
   "source": [
    "connection_string = f\"{driver}://{user}:{password}@{ip}/{database}\""
   ]
  },
  {
   "cell_type": "code",
   "execution_count": 91,
   "metadata": {},
   "outputs": [],
   "source": [
    "engine = create_engine(connection_string)"
   ]
  },
  {
   "cell_type": "code",
   "execution_count": 95,
   "metadata": {},
   "outputs": [],
   "source": [
    "CAT_TOTAL.to_sql(\"CAT\", engine)"
   ]
  },
  {
   "cell_type": "code",
   "execution_count": 96,
   "metadata": {},
   "outputs": [
    {
     "data": {
      "text/plain": [
       "Index(['Month/year', 'Total', 'Alemanya', 'Bèlgica', 'França', 'Irlanda',\n",
       "       'Itàlia', 'Països Baixos', 'Nordic countries', 'Portugal', 'Regne Unit',\n",
       "       'Rússia', 'Suïssa', 'Resta d'Europa', 'Estats Units', 'Rest d'America',\n",
       "       'Resta del món'],\n",
       "      dtype='object')"
      ]
     },
     "execution_count": 96,
     "metadata": {},
     "output_type": "execute_result"
    }
   ],
   "source": [
    "CAT_TOTAL.columns "
   ]
  }
 ],
 "metadata": {
  "kernelspec": {
   "display_name": "Python 3",
   "language": "python",
   "name": "python3"
  },
  "language_info": {
   "codemirror_mode": {
    "name": "ipython",
    "version": 3
   },
   "file_extension": ".py",
   "mimetype": "text/x-python",
   "name": "python",
   "nbconvert_exporter": "python",
   "pygments_lexer": "ipython3",
   "version": "3.7.3"
  }
 },
 "nbformat": 4,
 "nbformat_minor": 2
}

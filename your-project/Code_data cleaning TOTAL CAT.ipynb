{
 "cells": [
  {
   "cell_type": "code",
   "execution_count": 1,
   "metadata": {},
   "outputs": [],
   "source": [
    "import pandas as pd"
   ]
  },
  {
   "cell_type": "code",
   "execution_count": 2,
   "metadata": {
    "scrolled": true
   },
   "outputs": [
    {
     "name": "stdout",
     "output_type": "stream",
     "text": [
      "<class 'pandas.core.frame.DataFrame'>\n",
      "RangeIndex: 36 entries, 0 to 35\n",
      "Data columns (total 17 columns):\n",
      "Month/year           36 non-null object\n",
      "Total                36 non-null float64\n",
      "Germany              36 non-null float64\n",
      "Belgium              36 non-null float64\n",
      "France               36 non-null float64\n",
      "Ireland              36 non-null object\n",
      "Italy                36 non-null float64\n",
      "Netherlands          36 non-null float64\n",
      "Nordic countries     36 non-null float64\n",
      "Portugal             36 non-null object\n",
      "United Kingdom       36 non-null float64\n",
      "Russia               36 non-null float64\n",
      "Switzerland          36 non-null float64\n",
      "Rest of EU           36 non-null float64\n",
      "United States        36 non-null float64\n",
      "Rest of America      36 non-null float64\n",
      "Rest of the world    36 non-null float64\n",
      "dtypes: float64(14), object(3)\n",
      "memory usage: 4.9+ KB\n"
     ]
    }
   ],
   "source": [
    "# read and analyse csv file\n",
    "# check for null - none found\n",
    "CAT_TOTAL= pd.read_csv(\".\\datasets\\Total_cat_origin.csv\")\n",
    "CAT_TOTAL.info()"
   ]
  },
  {
   "cell_type": "code",
   "execution_count": 3,
   "metadata": {},
   "outputs": [
    {
     "data": {
      "text/html": [
       "<div>\n",
       "<style scoped>\n",
       "    .dataframe tbody tr th:only-of-type {\n",
       "        vertical-align: middle;\n",
       "    }\n",
       "\n",
       "    .dataframe tbody tr th {\n",
       "        vertical-align: top;\n",
       "    }\n",
       "\n",
       "    .dataframe thead th {\n",
       "        text-align: right;\n",
       "    }\n",
       "</style>\n",
       "<table border=\"1\" class=\"dataframe\">\n",
       "  <thead>\n",
       "    <tr style=\"text-align: right;\">\n",
       "      <th></th>\n",
       "      <th>Month/year</th>\n",
       "      <th>Total</th>\n",
       "      <th>Germany</th>\n",
       "      <th>Belgium</th>\n",
       "      <th>France</th>\n",
       "      <th>Ireland</th>\n",
       "      <th>Italy</th>\n",
       "      <th>Netherlands</th>\n",
       "      <th>Nordic countries</th>\n",
       "      <th>Portugal</th>\n",
       "      <th>United Kingdom</th>\n",
       "      <th>Russia</th>\n",
       "      <th>Switzerland</th>\n",
       "      <th>Rest of EU</th>\n",
       "      <th>United States</th>\n",
       "      <th>Rest of America</th>\n",
       "      <th>Rest of the world</th>\n",
       "    </tr>\n",
       "  </thead>\n",
       "  <tbody>\n",
       "    <tr>\n",
       "      <th>0</th>\n",
       "      <td>12/2018 (p)</td>\n",
       "      <td>977.2</td>\n",
       "      <td>58.6</td>\n",
       "      <td>14.6</td>\n",
       "      <td>199.0</td>\n",
       "      <td>11.9</td>\n",
       "      <td>100.6</td>\n",
       "      <td>21.9</td>\n",
       "      <td>23.5</td>\n",
       "      <td>0</td>\n",
       "      <td>92.7</td>\n",
       "      <td>24.9</td>\n",
       "      <td>14.7</td>\n",
       "      <td>118.1</td>\n",
       "      <td>62.1</td>\n",
       "      <td>57.7</td>\n",
       "      <td>169.0</td>\n",
       "    </tr>\n",
       "    <tr>\n",
       "      <th>1</th>\n",
       "      <td>11/2018 (p)</td>\n",
       "      <td>1040.7</td>\n",
       "      <td>71.3</td>\n",
       "      <td>23.9</td>\n",
       "      <td>193.9</td>\n",
       "      <td>8.9</td>\n",
       "      <td>76.0</td>\n",
       "      <td>26.2</td>\n",
       "      <td>33.5</td>\n",
       "      <td>9.4</td>\n",
       "      <td>92.5</td>\n",
       "      <td>27.2</td>\n",
       "      <td>22.9</td>\n",
       "      <td>124.6</td>\n",
       "      <td>80.2</td>\n",
       "      <td>65.2</td>\n",
       "      <td>184.8</td>\n",
       "    </tr>\n",
       "    <tr>\n",
       "      <th>2</th>\n",
       "      <td>10/2018 (p)</td>\n",
       "      <td>1655.6</td>\n",
       "      <td>129.4</td>\n",
       "      <td>22.3</td>\n",
       "      <td>311.1</td>\n",
       "      <td>29</td>\n",
       "      <td>94.1</td>\n",
       "      <td>69.9</td>\n",
       "      <td>75.5</td>\n",
       "      <td>0</td>\n",
       "      <td>184.3</td>\n",
       "      <td>49.0</td>\n",
       "      <td>12.0</td>\n",
       "      <td>218.2</td>\n",
       "      <td>148.0</td>\n",
       "      <td>91.8</td>\n",
       "      <td>211.1</td>\n",
       "    </tr>\n",
       "    <tr>\n",
       "      <th>3</th>\n",
       "      <td>09/2018 (p)</td>\n",
       "      <td>2005.3</td>\n",
       "      <td>162.9</td>\n",
       "      <td>41.8</td>\n",
       "      <td>343.0</td>\n",
       "      <td>33.4</td>\n",
       "      <td>117.2</td>\n",
       "      <td>66.5</td>\n",
       "      <td>54.1</td>\n",
       "      <td>35</td>\n",
       "      <td>258.5</td>\n",
       "      <td>108.4</td>\n",
       "      <td>21.7</td>\n",
       "      <td>262.2</td>\n",
       "      <td>131.9</td>\n",
       "      <td>125.6</td>\n",
       "      <td>243.2</td>\n",
       "    </tr>\n",
       "    <tr>\n",
       "      <th>4</th>\n",
       "      <td>08/2018 (p)</td>\n",
       "      <td>2439.0</td>\n",
       "      <td>186.7</td>\n",
       "      <td>57.6</td>\n",
       "      <td>755.5</td>\n",
       "      <td>45.1</td>\n",
       "      <td>160.9</td>\n",
       "      <td>118.6</td>\n",
       "      <td>66.7</td>\n",
       "      <td>17.4</td>\n",
       "      <td>278.0</td>\n",
       "      <td>107.4</td>\n",
       "      <td>22.1</td>\n",
       "      <td>240.6</td>\n",
       "      <td>103.8</td>\n",
       "      <td>97.6</td>\n",
       "      <td>180.8</td>\n",
       "    </tr>\n",
       "  </tbody>\n",
       "</table>\n",
       "</div>"
      ],
      "text/plain": [
       "    Month/year   Total  Germany  Belgium  France Ireland  Italy  Netherlands  \\\n",
       "0  12/2018 (p)   977.2     58.6     14.6   199.0    11.9  100.6         21.9   \n",
       "1  11/2018 (p)  1040.7     71.3     23.9   193.9     8.9   76.0         26.2   \n",
       "2  10/2018 (p)  1655.6    129.4     22.3   311.1      29   94.1         69.9   \n",
       "3  09/2018 (p)  2005.3    162.9     41.8   343.0    33.4  117.2         66.5   \n",
       "4  08/2018 (p)  2439.0    186.7     57.6   755.5    45.1  160.9        118.6   \n",
       "\n",
       "   Nordic countries Portugal  United Kingdom  Russia  Switzerland  Rest of EU  \\\n",
       "0              23.5        0            92.7    24.9         14.7       118.1   \n",
       "1              33.5      9.4            92.5    27.2         22.9       124.6   \n",
       "2              75.5        0           184.3    49.0         12.0       218.2   \n",
       "3              54.1       35           258.5   108.4         21.7       262.2   \n",
       "4              66.7     17.4           278.0   107.4         22.1       240.6   \n",
       "\n",
       "   United States  Rest of America  Rest of the world  \n",
       "0           62.1             57.7              169.0  \n",
       "1           80.2             65.2              184.8  \n",
       "2          148.0             91.8              211.1  \n",
       "3          131.9            125.6              243.2  \n",
       "4          103.8             97.6              180.8  "
      ]
     },
     "execution_count": 3,
     "metadata": {},
     "output_type": "execute_result"
    }
   ],
   "source": [
    "#rename columns \n",
    "CAT_TOTAL.columns \n",
    "CAT_TOTAL.rename(columns = {\"Nordic countries\": \"Nordic\", \"United Kingdom\":\"UK\", \"Rest of EU\":\"Rest_EU\", \"United States\":\"US\", \n",
    "                           \"Rest of America\":\"ROA\", \"Rest of the world\":\"ROW\"})\n",
    "CAT_TOTAL.head()"
   ]
  },
  {
   "cell_type": "markdown",
   "metadata": {},
   "source": [
    "### change type of month/year to date"
   ]
  },
  {
   "cell_type": "code",
   "execution_count": 14,
   "metadata": {},
   "outputs": [],
   "source": [
    "# remove (p)\n",
    "\n",
    "CAT_TOTAL[\"Month/year_error\"] = CAT_TOTAL[\"Month/year\"].apply(lambda x: \"(p)\" in x)\n",
    "CAT_TOTAL[\"Month/year\"] = CAT_TOTAL[\"Month/year\"].apply(lambda x: x.replace(\" (p)\", \"\"))\n",
    "\n"
   ]
  },
  {
   "cell_type": "code",
   "execution_count": 16,
   "metadata": {},
   "outputs": [
    {
     "ename": "OutOfBoundsDatetime",
     "evalue": "Out of bounds nanosecond timestamp: 1-05-18 00:00:00",
     "output_type": "error",
     "traceback": [
      "\u001b[1;31m---------------------------------------------------------------------------\u001b[0m",
      "\u001b[1;31mTypeError\u001b[0m                                 Traceback (most recent call last)",
      "\u001b[1;32m~\\Anaconda3\\lib\\site-packages\\pandas\\core\\arrays\\datetimes.py\u001b[0m in \u001b[0;36mobjects_to_datetime64ns\u001b[1;34m(data, dayfirst, yearfirst, utc, errors, require_iso8601, allow_object)\u001b[0m\n\u001b[0;32m   1860\u001b[0m         \u001b[1;32mtry\u001b[0m\u001b[1;33m:\u001b[0m\u001b[1;33m\u001b[0m\u001b[1;33m\u001b[0m\u001b[0m\n\u001b[1;32m-> 1861\u001b[1;33m             \u001b[0mvalues\u001b[0m\u001b[1;33m,\u001b[0m \u001b[0mtz_parsed\u001b[0m \u001b[1;33m=\u001b[0m \u001b[0mconversion\u001b[0m\u001b[1;33m.\u001b[0m\u001b[0mdatetime_to_datetime64\u001b[0m\u001b[1;33m(\u001b[0m\u001b[0mdata\u001b[0m\u001b[1;33m)\u001b[0m\u001b[1;33m\u001b[0m\u001b[1;33m\u001b[0m\u001b[0m\n\u001b[0m\u001b[0;32m   1862\u001b[0m             \u001b[1;31m# If tzaware, these values represent unix timestamps, so we\u001b[0m\u001b[1;33m\u001b[0m\u001b[1;33m\u001b[0m\u001b[1;33m\u001b[0m\u001b[0m\n",
      "\u001b[1;32mpandas/_libs/tslibs/conversion.pyx\u001b[0m in \u001b[0;36mpandas._libs.tslibs.conversion.datetime_to_datetime64\u001b[1;34m()\u001b[0m\n",
      "\u001b[1;31mTypeError\u001b[0m: Unrecognized value type: <class 'str'>",
      "\nDuring handling of the above exception, another exception occurred:\n",
      "\u001b[1;31mOutOfBoundsDatetime\u001b[0m                       Traceback (most recent call last)",
      "\u001b[1;32m<ipython-input-16-b38029b4e0bb>\u001b[0m in \u001b[0;36m<module>\u001b[1;34m\u001b[0m\n\u001b[0;32m      1\u001b[0m \u001b[1;31m#CAT_TOTAL.astype({\"Month/year\":\"datetime64[ns]\"})\u001b[0m\u001b[1;33m\u001b[0m\u001b[1;33m\u001b[0m\u001b[1;33m\u001b[0m\u001b[0m\n\u001b[1;32m----> 2\u001b[1;33m \u001b[0mCAT_TOTAL\u001b[0m\u001b[1;33m[\u001b[0m\u001b[1;34m'Month/year'\u001b[0m\u001b[1;33m]\u001b[0m \u001b[1;33m=\u001b[0m \u001b[0mpd\u001b[0m\u001b[1;33m.\u001b[0m\u001b[0mto_datetime\u001b[0m\u001b[1;33m(\u001b[0m\u001b[0mCAT_TOTAL\u001b[0m\u001b[1;33m[\u001b[0m\u001b[1;34m'Month/year'\u001b[0m\u001b[1;33m]\u001b[0m\u001b[1;33m)\u001b[0m\u001b[1;33m\u001b[0m\u001b[1;33m\u001b[0m\u001b[0m\n\u001b[0m\u001b[0;32m      3\u001b[0m \u001b[1;31m# As type cannot be easily changed, we will just make a sum with the assumption of month containing \"18\", \"17\", \"16\"\u001b[0m\u001b[1;33m\u001b[0m\u001b[1;33m\u001b[0m\u001b[1;33m\u001b[0m\u001b[0m\n",
      "\u001b[1;32m~\\Anaconda3\\lib\\site-packages\\pandas\\core\\tools\\datetimes.py\u001b[0m in \u001b[0;36mto_datetime\u001b[1;34m(arg, errors, dayfirst, yearfirst, utc, box, format, exact, unit, infer_datetime_format, origin, cache)\u001b[0m\n\u001b[0;32m    590\u001b[0m         \u001b[1;32melse\u001b[0m\u001b[1;33m:\u001b[0m\u001b[1;33m\u001b[0m\u001b[1;33m\u001b[0m\u001b[0m\n\u001b[0;32m    591\u001b[0m             \u001b[1;32mfrom\u001b[0m \u001b[0mpandas\u001b[0m \u001b[1;32mimport\u001b[0m \u001b[0mSeries\u001b[0m\u001b[1;33m\u001b[0m\u001b[1;33m\u001b[0m\u001b[0m\n\u001b[1;32m--> 592\u001b[1;33m             \u001b[0mvalues\u001b[0m \u001b[1;33m=\u001b[0m \u001b[0mconvert_listlike\u001b[0m\u001b[1;33m(\u001b[0m\u001b[0marg\u001b[0m\u001b[1;33m.\u001b[0m\u001b[0m_values\u001b[0m\u001b[1;33m,\u001b[0m \u001b[1;32mTrue\u001b[0m\u001b[1;33m,\u001b[0m \u001b[0mformat\u001b[0m\u001b[1;33m)\u001b[0m\u001b[1;33m\u001b[0m\u001b[1;33m\u001b[0m\u001b[0m\n\u001b[0m\u001b[0;32m    593\u001b[0m             \u001b[0mresult\u001b[0m \u001b[1;33m=\u001b[0m \u001b[0mSeries\u001b[0m\u001b[1;33m(\u001b[0m\u001b[0mvalues\u001b[0m\u001b[1;33m,\u001b[0m \u001b[0mindex\u001b[0m\u001b[1;33m=\u001b[0m\u001b[0marg\u001b[0m\u001b[1;33m.\u001b[0m\u001b[0mindex\u001b[0m\u001b[1;33m,\u001b[0m \u001b[0mname\u001b[0m\u001b[1;33m=\u001b[0m\u001b[0marg\u001b[0m\u001b[1;33m.\u001b[0m\u001b[0mname\u001b[0m\u001b[1;33m)\u001b[0m\u001b[1;33m\u001b[0m\u001b[1;33m\u001b[0m\u001b[0m\n\u001b[0;32m    594\u001b[0m     \u001b[1;32melif\u001b[0m \u001b[0misinstance\u001b[0m\u001b[1;33m(\u001b[0m\u001b[0marg\u001b[0m\u001b[1;33m,\u001b[0m \u001b[1;33m(\u001b[0m\u001b[0mABCDataFrame\u001b[0m\u001b[1;33m,\u001b[0m \u001b[0mcompat\u001b[0m\u001b[1;33m.\u001b[0m\u001b[0mMutableMapping\u001b[0m\u001b[1;33m)\u001b[0m\u001b[1;33m)\u001b[0m\u001b[1;33m:\u001b[0m\u001b[1;33m\u001b[0m\u001b[1;33m\u001b[0m\u001b[0m\n",
      "\u001b[1;32m~\\Anaconda3\\lib\\site-packages\\pandas\\core\\tools\\datetimes.py\u001b[0m in \u001b[0;36m_convert_listlike_datetimes\u001b[1;34m(arg, box, format, name, tz, unit, errors, infer_datetime_format, dayfirst, yearfirst, exact)\u001b[0m\n\u001b[0;32m    300\u001b[0m             \u001b[0marg\u001b[0m\u001b[1;33m,\u001b[0m \u001b[0mdayfirst\u001b[0m\u001b[1;33m=\u001b[0m\u001b[0mdayfirst\u001b[0m\u001b[1;33m,\u001b[0m \u001b[0myearfirst\u001b[0m\u001b[1;33m=\u001b[0m\u001b[0myearfirst\u001b[0m\u001b[1;33m,\u001b[0m\u001b[1;33m\u001b[0m\u001b[1;33m\u001b[0m\u001b[0m\n\u001b[0;32m    301\u001b[0m             \u001b[0mutc\u001b[0m\u001b[1;33m=\u001b[0m\u001b[0mutc\u001b[0m\u001b[1;33m,\u001b[0m \u001b[0merrors\u001b[0m\u001b[1;33m=\u001b[0m\u001b[0merrors\u001b[0m\u001b[1;33m,\u001b[0m \u001b[0mrequire_iso8601\u001b[0m\u001b[1;33m=\u001b[0m\u001b[0mrequire_iso8601\u001b[0m\u001b[1;33m,\u001b[0m\u001b[1;33m\u001b[0m\u001b[1;33m\u001b[0m\u001b[0m\n\u001b[1;32m--> 302\u001b[1;33m             allow_object=True)\n\u001b[0m\u001b[0;32m    303\u001b[0m \u001b[1;33m\u001b[0m\u001b[0m\n\u001b[0;32m    304\u001b[0m     \u001b[1;32mif\u001b[0m \u001b[0mtz_parsed\u001b[0m \u001b[1;32mis\u001b[0m \u001b[1;32mnot\u001b[0m \u001b[1;32mNone\u001b[0m\u001b[1;33m:\u001b[0m\u001b[1;33m\u001b[0m\u001b[1;33m\u001b[0m\u001b[0m\n",
      "\u001b[1;32m~\\Anaconda3\\lib\\site-packages\\pandas\\core\\arrays\\datetimes.py\u001b[0m in \u001b[0;36mobjects_to_datetime64ns\u001b[1;34m(data, dayfirst, yearfirst, utc, errors, require_iso8601, allow_object)\u001b[0m\n\u001b[0;32m   1864\u001b[0m             \u001b[1;32mreturn\u001b[0m \u001b[0mvalues\u001b[0m\u001b[1;33m.\u001b[0m\u001b[0mview\u001b[0m\u001b[1;33m(\u001b[0m\u001b[1;34m'i8'\u001b[0m\u001b[1;33m)\u001b[0m\u001b[1;33m,\u001b[0m \u001b[0mtz_parsed\u001b[0m\u001b[1;33m\u001b[0m\u001b[1;33m\u001b[0m\u001b[0m\n\u001b[0;32m   1865\u001b[0m         \u001b[1;32mexcept\u001b[0m \u001b[1;33m(\u001b[0m\u001b[0mValueError\u001b[0m\u001b[1;33m,\u001b[0m \u001b[0mTypeError\u001b[0m\u001b[1;33m)\u001b[0m\u001b[1;33m:\u001b[0m\u001b[1;33m\u001b[0m\u001b[1;33m\u001b[0m\u001b[0m\n\u001b[1;32m-> 1866\u001b[1;33m             \u001b[1;32mraise\u001b[0m \u001b[0me\u001b[0m\u001b[1;33m\u001b[0m\u001b[1;33m\u001b[0m\u001b[0m\n\u001b[0m\u001b[0;32m   1867\u001b[0m \u001b[1;33m\u001b[0m\u001b[0m\n\u001b[0;32m   1868\u001b[0m     \u001b[1;32mif\u001b[0m \u001b[0mtz_parsed\u001b[0m \u001b[1;32mis\u001b[0m \u001b[1;32mnot\u001b[0m \u001b[1;32mNone\u001b[0m\u001b[1;33m:\u001b[0m\u001b[1;33m\u001b[0m\u001b[1;33m\u001b[0m\u001b[0m\n",
      "\u001b[1;32m~\\Anaconda3\\lib\\site-packages\\pandas\\core\\arrays\\datetimes.py\u001b[0m in \u001b[0;36mobjects_to_datetime64ns\u001b[1;34m(data, dayfirst, yearfirst, utc, errors, require_iso8601, allow_object)\u001b[0m\n\u001b[0;32m   1855\u001b[0m             \u001b[0mdayfirst\u001b[0m\u001b[1;33m=\u001b[0m\u001b[0mdayfirst\u001b[0m\u001b[1;33m,\u001b[0m\u001b[1;33m\u001b[0m\u001b[1;33m\u001b[0m\u001b[0m\n\u001b[0;32m   1856\u001b[0m             \u001b[0myearfirst\u001b[0m\u001b[1;33m=\u001b[0m\u001b[0myearfirst\u001b[0m\u001b[1;33m,\u001b[0m\u001b[1;33m\u001b[0m\u001b[1;33m\u001b[0m\u001b[0m\n\u001b[1;32m-> 1857\u001b[1;33m             \u001b[0mrequire_iso8601\u001b[0m\u001b[1;33m=\u001b[0m\u001b[0mrequire_iso8601\u001b[0m\u001b[1;33m\u001b[0m\u001b[1;33m\u001b[0m\u001b[0m\n\u001b[0m\u001b[0;32m   1858\u001b[0m         )\n\u001b[0;32m   1859\u001b[0m     \u001b[1;32mexcept\u001b[0m \u001b[0mValueError\u001b[0m \u001b[1;32mas\u001b[0m \u001b[0me\u001b[0m\u001b[1;33m:\u001b[0m\u001b[1;33m\u001b[0m\u001b[1;33m\u001b[0m\u001b[0m\n",
      "\u001b[1;32mpandas/_libs/tslib.pyx\u001b[0m in \u001b[0;36mpandas._libs.tslib.array_to_datetime\u001b[1;34m()\u001b[0m\n",
      "\u001b[1;32mpandas/_libs/tslib.pyx\u001b[0m in \u001b[0;36mpandas._libs.tslib.array_to_datetime\u001b[1;34m()\u001b[0m\n",
      "\u001b[1;32mpandas/_libs/tslib.pyx\u001b[0m in \u001b[0;36mpandas._libs.tslib.array_to_datetime\u001b[1;34m()\u001b[0m\n",
      "\u001b[1;32mpandas/_libs/tslib.pyx\u001b[0m in \u001b[0;36mpandas._libs.tslib.array_to_datetime\u001b[1;34m()\u001b[0m\n",
      "\u001b[1;32mpandas/_libs/tslibs/conversion.pyx\u001b[0m in \u001b[0;36mpandas._libs.tslibs.conversion.convert_datetime_to_tsobject\u001b[1;34m()\u001b[0m\n",
      "\u001b[1;32mpandas/_libs/tslibs/np_datetime.pyx\u001b[0m in \u001b[0;36mpandas._libs.tslibs.np_datetime.check_dts_bounds\u001b[1;34m()\u001b[0m\n",
      "\u001b[1;31mOutOfBoundsDatetime\u001b[0m: Out of bounds nanosecond timestamp: 1-05-18 00:00:00"
     ]
    }
   ],
   "source": [
    "#CAT_TOTAL.astype({\"Month/year\":\"datetime64[ns]\"})\n",
    "# CAT_TOTAL['Month/year'] = pd.to_datetime(CAT_TOTAL['Month/year'])\n",
    "# As type cannot be easily changed, we will just make a sum with the assumption of month containing \"18\", \"17\", \"16\"\n"
   ]
  },
  {
   "cell_type": "markdown",
   "metadata": {},
   "source": [
    "### change Ireland and Portugal to float"
   ]
  },
  {
   "cell_type": "code",
   "execution_count": 6,
   "metadata": {},
   "outputs": [
    {
     "name": "stderr",
     "output_type": "stream",
     "text": [
      "C:\\Users\\fabia hnt\\Anaconda3\\lib\\site-packages\\pandas\\core\\indexing.py:190: SettingWithCopyWarning: \n",
      "A value is trying to be set on a copy of a slice from a DataFrame\n",
      "\n",
      "See the caveats in the documentation: http://pandas.pydata.org/pandas-docs/stable/indexing.html#indexing-view-versus-copy\n",
      "  self._setitem_with_indexer(indexer, value)\n"
     ]
    }
   ],
   "source": [
    "CAT_TOTAL[\"Ireland_error\"] = CAT_TOTAL[\"Ireland\"].apply(lambda x: \"(*)\" in x)\n",
    "CAT_TOTAL[\"Ireland\"] = CAT_TOTAL[\"Ireland\"].apply(lambda x: x.replace(\"(*)\", \"\"))\n",
    "\n",
    "# AS argument \"..\" doen't seem to be recognised, we will subsitute the value of Italy index 21 to 0\n",
    "    #CAT_TOTAL[\"Ireland_error2\"] = CAT_TOTAL[\"Ireland\"].apply(lambda x: \"(..)\" in x)\n",
    "    #CAT_TOTAL[\"Ireland\"] = CAT_TOTAL[\"Ireland\"].apply(lambda x: x.replace(\"(..)\", \"\"))\n",
    "\n",
    "CAT_TOTAL[\"Ireland\"].iloc[21]=int(0)\n",
    "\n",
    "CAT_TOTAL = CAT_TOTAL.astype({\"Ireland\": float})"
   ]
  },
  {
   "cell_type": "markdown",
   "metadata": {},
   "source": [
    "####  Change portugal to float"
   ]
  },
  {
   "cell_type": "code",
   "execution_count": 7,
   "metadata": {},
   "outputs": [],
   "source": [
    "#CAT_TOTAL[\"Ireland\"].iloc[21]=int(0)\n",
    "\n",
    "CAT_TOTAL[\"Portugal_error\"] = CAT_TOTAL[\"Portugal\"].apply(lambda x: \"(*)\" in x)\n",
    "CAT_TOTAL[\"Portugal\"] = CAT_TOTAL[\"Portugal\"].apply(lambda x: x.replace(\"(*)\", \"\"))\n",
    "CAT_TOTAL = CAT_TOTAL.astype({\"Portugal\": float})\n"
   ]
  },
  {
   "cell_type": "code",
   "execution_count": 8,
   "metadata": {},
   "outputs": [
    {
     "name": "stdout",
     "output_type": "stream",
     "text": [
      "<class 'pandas.core.frame.DataFrame'>\n",
      "RangeIndex: 36 entries, 0 to 35\n",
      "Data columns (total 20 columns):\n",
      "Month/year           36 non-null object\n",
      "Total                36 non-null float64\n",
      "Germany              36 non-null float64\n",
      "Belgium              36 non-null float64\n",
      "France               36 non-null float64\n",
      "Ireland              36 non-null float64\n",
      "Italy                36 non-null float64\n",
      "Netherlands          36 non-null float64\n",
      "Nordic countries     36 non-null float64\n",
      "Portugal             36 non-null float64\n",
      "United Kingdom       36 non-null float64\n",
      "Russia               36 non-null float64\n",
      "Switzerland          36 non-null float64\n",
      "Rest of EU           36 non-null float64\n",
      "United States        36 non-null float64\n",
      "Rest of America      36 non-null float64\n",
      "Rest of the world    36 non-null float64\n",
      "Month/year_error     36 non-null bool\n",
      "Ireland_error        36 non-null bool\n",
      "Portugal_error       36 non-null bool\n",
      "dtypes: bool(3), float64(16), object(1)\n",
      "memory usage: 5.0+ KB\n"
     ]
    }
   ],
   "source": [
    "CAT_TOTAL.info()"
   ]
  },
  {
   "cell_type": "code",
   "execution_count": 12,
   "metadata": {},
   "outputs": [],
   "source": [
    "CAT_TOTAL = CAT_TOTAL.drop([\"Month/year_error\", \"Ireland_error\", \"Portugal_error\"], axis=1)"
   ]
  },
  {
   "cell_type": "code",
   "execution_count": 13,
   "metadata": {},
   "outputs": [],
   "source": [
    "CAT_TOTAL.to_csv(\"CAT_TOTAL_CLEAN.csv\") "
   ]
  },
  {
   "cell_type": "markdown",
   "metadata": {},
   "source": [
    "## import to database"
   ]
  },
  {
   "cell_type": "code",
   "execution_count": 20,
   "metadata": {},
   "outputs": [],
   "source": [
    "from sqlalchemy import create_engine\n",
    "import pymysql"
   ]
  },
  {
   "cell_type": "code",
   "execution_count": 25,
   "metadata": {},
   "outputs": [],
   "source": [
    "driver = \"mysql+pymysql\"\n",
    "user = \"root\"\n",
    "password = \"Ir0nhack\"\n",
    "ip = \"35.192.169.188\"\n",
    "database = \"Project_2\""
   ]
  },
  {
   "cell_type": "code",
   "execution_count": 26,
   "metadata": {},
   "outputs": [],
   "source": [
    "connection_string = f\"{driver}://{user}:{password}@{ip}/{database}\""
   ]
  },
  {
   "cell_type": "code",
   "execution_count": 27,
   "metadata": {},
   "outputs": [],
   "source": [
    "engine = create_engine(connection_string)"
   ]
  },
  {
   "cell_type": "code",
   "execution_count": 28,
   "metadata": {},
   "outputs": [],
   "source": [
    "CAT_TOTAL.to_sql(\"CAT\", engine)"
   ]
  },
  {
   "cell_type": "code",
   "execution_count": 29,
   "metadata": {},
   "outputs": [
    {
     "data": {
      "text/plain": [
       "Index(['Month/year', 'Total', 'Germany', 'Belgium', 'France', 'Ireland',\n",
       "       'Italy', 'Netherlands', 'Nordic countries', 'Portugal',\n",
       "       'United Kingdom', 'Russia', 'Switzerland', 'Rest of EU',\n",
       "       'United States', 'Rest of America', 'Rest of the world',\n",
       "       'Month/year_error'],\n",
       "      dtype='object')"
      ]
     },
     "execution_count": 29,
     "metadata": {},
     "output_type": "execute_result"
    }
   ],
   "source": [
    "CAT_TOTAL.columns "
   ]
  }
 ],
 "metadata": {
  "kernelspec": {
   "display_name": "Python 3",
   "language": "python",
   "name": "python3"
  },
  "language_info": {
   "codemirror_mode": {
    "name": "ipython",
    "version": 3
   },
   "file_extension": ".py",
   "mimetype": "text/x-python",
   "name": "python",
   "nbconvert_exporter": "python",
   "pygments_lexer": "ipython3",
   "version": "3.7.3"
  }
 },
 "nbformat": 4,
 "nbformat_minor": 2
}
